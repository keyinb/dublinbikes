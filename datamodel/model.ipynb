{
 "cells": [
  {
   "attachments": {},
   "cell_type": "markdown",
   "metadata": {},
   "source": [
    "# Machine Learning Model for Dublin Bikes application"
   ]
  },
  {
   "cell_type": "code",
   "execution_count": 32,
   "metadata": {},
   "outputs": [],
   "source": [
    "import numpy as np\n",
    "import pandas as pd\n",
    "import matplotlib.pyplot as plt\n",
    "import copy\n",
    "import seaborn as sns\n",
    "import tensorflow as tf\n",
    "from sklearn.linear_model import LinearRegression ## maybe logisitic regression??????"
   ]
  },
  {
   "attachments": {},
   "cell_type": "markdown",
   "metadata": {},
   "source": [
    "# Clean and standardize the data"
   ]
  },
  {
   "cell_type": "code",
   "execution_count": 40,
   "metadata": {},
   "outputs": [
    {
     "data": {
      "text/html": [
       "<div>\n",
       "<style scoped>\n",
       "    .dataframe tbody tr th:only-of-type {\n",
       "        vertical-align: middle;\n",
       "    }\n",
       "\n",
       "    .dataframe tbody tr th {\n",
       "        vertical-align: top;\n",
       "    }\n",
       "\n",
       "    .dataframe thead th {\n",
       "        text-align: right;\n",
       "    }\n",
       "</style>\n",
       "<table border=\"1\" class=\"dataframe\">\n",
       "  <thead>\n",
       "    <tr style=\"text-align: right;\">\n",
       "      <th></th>\n",
       "      <th>number</th>\n",
       "      <th>name</th>\n",
       "      <th>bike_stands</th>\n",
       "      <th>available_bike_stands</th>\n",
       "      <th>available_bikes</th>\n",
       "      <th>status</th>\n",
       "      <th>s_date</th>\n",
       "      <th>s_time</th>\n",
       "    </tr>\n",
       "  </thead>\n",
       "  <tbody>\n",
       "    <tr>\n",
       "      <th>0</th>\n",
       "      <td>42</td>\n",
       "      <td>SMITHFIELD NORTH</td>\n",
       "      <td>30</td>\n",
       "      <td>15</td>\n",
       "      <td>15</td>\n",
       "      <td>OPEN</td>\n",
       "      <td>2023-03-03</td>\n",
       "      <td>10:47:16</td>\n",
       "    </tr>\n",
       "    <tr>\n",
       "      <th>1</th>\n",
       "      <td>30</td>\n",
       "      <td>PARNELL SQUARE NORTH</td>\n",
       "      <td>20</td>\n",
       "      <td>19</td>\n",
       "      <td>1</td>\n",
       "      <td>OPEN</td>\n",
       "      <td>2023-03-03</td>\n",
       "      <td>10:45:35</td>\n",
       "    </tr>\n",
       "    <tr>\n",
       "      <th>2</th>\n",
       "      <td>54</td>\n",
       "      <td>CLONMEL STREET</td>\n",
       "      <td>33</td>\n",
       "      <td>21</td>\n",
       "      <td>12</td>\n",
       "      <td>OPEN</td>\n",
       "      <td>2023-03-03</td>\n",
       "      <td>10:49:41</td>\n",
       "    </tr>\n",
       "    <tr>\n",
       "      <th>3</th>\n",
       "      <td>108</td>\n",
       "      <td>AVONDALE ROAD</td>\n",
       "      <td>35</td>\n",
       "      <td>17</td>\n",
       "      <td>18</td>\n",
       "      <td>OPEN</td>\n",
       "      <td>2023-03-03</td>\n",
       "      <td>10:44:37</td>\n",
       "    </tr>\n",
       "    <tr>\n",
       "      <th>4</th>\n",
       "      <td>20</td>\n",
       "      <td>JAMES STREET EAST</td>\n",
       "      <td>30</td>\n",
       "      <td>12</td>\n",
       "      <td>17</td>\n",
       "      <td>OPEN</td>\n",
       "      <td>2023-03-03</td>\n",
       "      <td>10:44:23</td>\n",
       "    </tr>\n",
       "  </tbody>\n",
       "</table>\n",
       "</div>"
      ],
      "text/plain": [
       "   number                  name  bike_stands  available_bike_stands  \\\n",
       "0      42      SMITHFIELD NORTH           30                     15   \n",
       "1      30  PARNELL SQUARE NORTH           20                     19   \n",
       "2      54        CLONMEL STREET           33                     21   \n",
       "3     108         AVONDALE ROAD           35                     17   \n",
       "4      20     JAMES STREET EAST           30                     12   \n",
       "\n",
       "   available_bikes status      s_date    s_time  \n",
       "0               15   OPEN  2023-03-03  10:47:16  \n",
       "1                1   OPEN  2023-03-03  10:45:35  \n",
       "2               12   OPEN  2023-03-03  10:49:41  \n",
       "3               18   OPEN  2023-03-03  10:44:37  \n",
       "4               17   OPEN  2023-03-03  10:44:23  "
      ]
     },
     "execution_count": 40,
     "metadata": {},
     "output_type": "execute_result"
    }
   ],
   "source": [
    "# we just need to create a collect csv files for both and put them in here\n",
    "training_weather = pd.read_csv('dynamic_4_4_23.csv')\n",
    "training_weather.head()"
   ]
  },
  {
   "attachments": {},
   "cell_type": "markdown",
   "metadata": {},
   "source": [
    "### Drop 3rd March Data and any data after the 31st March"
   ]
  },
  {
   "cell_type": "code",
   "execution_count": 39,
   "metadata": {},
   "outputs": [
    {
     "data": {
      "text/html": [
       "<div>\n",
       "<style scoped>\n",
       "    .dataframe tbody tr th:only-of-type {\n",
       "        vertical-align: middle;\n",
       "    }\n",
       "\n",
       "    .dataframe tbody tr th {\n",
       "        vertical-align: top;\n",
       "    }\n",
       "\n",
       "    .dataframe thead th {\n",
       "        text-align: right;\n",
       "    }\n",
       "</style>\n",
       "<table border=\"1\" class=\"dataframe\">\n",
       "  <thead>\n",
       "    <tr style=\"text-align: right;\">\n",
       "      <th></th>\n",
       "      <th>number</th>\n",
       "      <th>name</th>\n",
       "      <th>bike_stands</th>\n",
       "      <th>available_bike_stands</th>\n",
       "      <th>available_bikes</th>\n",
       "      <th>status</th>\n",
       "      <th>s_date</th>\n",
       "      <th>s_time</th>\n",
       "    </tr>\n",
       "  </thead>\n",
       "  <tbody>\n",
       "    <tr>\n",
       "      <th>18059</th>\n",
       "      <td>20</td>\n",
       "      <td>JAMES STREET EAST</td>\n",
       "      <td>30</td>\n",
       "      <td>24</td>\n",
       "      <td>6</td>\n",
       "      <td>OPEN</td>\n",
       "      <td>2023-03-04</td>\n",
       "      <td>00:00:01</td>\n",
       "    </tr>\n",
       "    <tr>\n",
       "      <th>18060</th>\n",
       "      <td>56</td>\n",
       "      <td>MOUNT STREET LOWER</td>\n",
       "      <td>40</td>\n",
       "      <td>31</td>\n",
       "      <td>9</td>\n",
       "      <td>OPEN</td>\n",
       "      <td>2023-03-04</td>\n",
       "      <td>00:00:34</td>\n",
       "    </tr>\n",
       "    <tr>\n",
       "      <th>18061</th>\n",
       "      <td>6</td>\n",
       "      <td>CHRISTCHURCH PLACE</td>\n",
       "      <td>20</td>\n",
       "      <td>20</td>\n",
       "      <td>0</td>\n",
       "      <td>OPEN</td>\n",
       "      <td>2023-03-04</td>\n",
       "      <td>00:00:25</td>\n",
       "    </tr>\n",
       "    <tr>\n",
       "      <th>18083</th>\n",
       "      <td>114</td>\n",
       "      <td>WILTON TERRACE (PARK)</td>\n",
       "      <td>40</td>\n",
       "      <td>40</td>\n",
       "      <td>0</td>\n",
       "      <td>OPEN</td>\n",
       "      <td>2023-03-04</td>\n",
       "      <td>00:00:22</td>\n",
       "    </tr>\n",
       "    <tr>\n",
       "      <th>18086</th>\n",
       "      <td>113</td>\n",
       "      <td>MERRION SQUARE SOUTH</td>\n",
       "      <td>40</td>\n",
       "      <td>39</td>\n",
       "      <td>1</td>\n",
       "      <td>OPEN</td>\n",
       "      <td>2023-03-04</td>\n",
       "      <td>00:00:26</td>\n",
       "    </tr>\n",
       "  </tbody>\n",
       "</table>\n",
       "</div>"
      ],
      "text/plain": [
       "       number                   name  bike_stands  available_bike_stands  \\\n",
       "18059      20      JAMES STREET EAST           30                     24   \n",
       "18060      56     MOUNT STREET LOWER           40                     31   \n",
       "18061       6     CHRISTCHURCH PLACE           20                     20   \n",
       "18083     114  WILTON TERRACE (PARK)           40                     40   \n",
       "18086     113   MERRION SQUARE SOUTH           40                     39   \n",
       "\n",
       "       available_bikes status     s_date    s_time  \n",
       "18059                6   OPEN 2023-03-04  00:00:01  \n",
       "18060                9   OPEN 2023-03-04  00:00:34  \n",
       "18061                0   OPEN 2023-03-04  00:00:25  \n",
       "18083                0   OPEN 2023-03-04  00:00:22  \n",
       "18086                1   OPEN 2023-03-04  00:00:26  "
      ]
     },
     "execution_count": 39,
     "metadata": {},
     "output_type": "execute_result"
    }
   ],
   "source": [
    "training_weather['s_date'] = pd.to_datetime(training_weather['s_date'])\n",
    "drop_dates=training_weather[training_weather['s_date'] >= '2023-03-04']\n",
    "drop_dates.head()"
   ]
  },
  {
   "cell_type": "code",
   "execution_count": 41,
   "metadata": {},
   "outputs": [
    {
     "data": {
      "text/html": [
       "<div>\n",
       "<style scoped>\n",
       "    .dataframe tbody tr th:only-of-type {\n",
       "        vertical-align: middle;\n",
       "    }\n",
       "\n",
       "    .dataframe tbody tr th {\n",
       "        vertical-align: top;\n",
       "    }\n",
       "\n",
       "    .dataframe thead th {\n",
       "        text-align: right;\n",
       "    }\n",
       "</style>\n",
       "<table border=\"1\" class=\"dataframe\">\n",
       "  <thead>\n",
       "    <tr style=\"text-align: right;\">\n",
       "      <th></th>\n",
       "      <th>number</th>\n",
       "      <th>name</th>\n",
       "      <th>bike_stands</th>\n",
       "      <th>available_bike_stands</th>\n",
       "      <th>available_bikes</th>\n",
       "      <th>status</th>\n",
       "      <th>s_date</th>\n",
       "      <th>s_time</th>\n",
       "    </tr>\n",
       "  </thead>\n",
       "  <tbody>\n",
       "    <tr>\n",
       "      <th>935841</th>\n",
       "      <td>44</td>\n",
       "      <td>UPPER SHERRARD STREET</td>\n",
       "      <td>30</td>\n",
       "      <td>7</td>\n",
       "      <td>23</td>\n",
       "      <td>OPEN</td>\n",
       "      <td>2023-03-31</td>\n",
       "      <td>23:57:32</td>\n",
       "    </tr>\n",
       "    <tr>\n",
       "      <th>935842</th>\n",
       "      <td>89</td>\n",
       "      <td>FITZWILLIAM SQUARE EAST</td>\n",
       "      <td>40</td>\n",
       "      <td>32</td>\n",
       "      <td>8</td>\n",
       "      <td>OPEN</td>\n",
       "      <td>2023-03-31</td>\n",
       "      <td>23:59:04</td>\n",
       "    </tr>\n",
       "    <tr>\n",
       "      <th>935855</th>\n",
       "      <td>88</td>\n",
       "      <td>BLACKHALL PLACE</td>\n",
       "      <td>30</td>\n",
       "      <td>20</td>\n",
       "      <td>10</td>\n",
       "      <td>OPEN</td>\n",
       "      <td>2023-03-31</td>\n",
       "      <td>23:56:27</td>\n",
       "    </tr>\n",
       "    <tr>\n",
       "      <th>935904</th>\n",
       "      <td>60</td>\n",
       "      <td>NORTH CIRCULAR ROAD</td>\n",
       "      <td>30</td>\n",
       "      <td>0</td>\n",
       "      <td>30</td>\n",
       "      <td>OPEN</td>\n",
       "      <td>2023-03-31</td>\n",
       "      <td>23:59:51</td>\n",
       "    </tr>\n",
       "    <tr>\n",
       "      <th>935951</th>\n",
       "      <td>109</td>\n",
       "      <td>BUCKINGHAM STREET LOWER</td>\n",
       "      <td>29</td>\n",
       "      <td>16</td>\n",
       "      <td>13</td>\n",
       "      <td>OPEN</td>\n",
       "      <td>2023-03-31</td>\n",
       "      <td>23:59:49</td>\n",
       "    </tr>\n",
       "  </tbody>\n",
       "</table>\n",
       "</div>"
      ],
      "text/plain": [
       "        number                     name  bike_stands  available_bike_stands  \\\n",
       "935841      44    UPPER SHERRARD STREET           30                      7   \n",
       "935842      89  FITZWILLIAM SQUARE EAST           40                     32   \n",
       "935855      88          BLACKHALL PLACE           30                     20   \n",
       "935904      60      NORTH CIRCULAR ROAD           30                      0   \n",
       "935951     109  BUCKINGHAM STREET LOWER           29                     16   \n",
       "\n",
       "        available_bikes status     s_date    s_time  \n",
       "935841               23   OPEN 2023-03-31  23:57:32  \n",
       "935842                8   OPEN 2023-03-31  23:59:04  \n",
       "935855               10   OPEN 2023-03-31  23:56:27  \n",
       "935904               30   OPEN 2023-03-31  23:59:51  \n",
       "935951               13   OPEN 2023-03-31  23:59:49  "
      ]
     },
     "execution_count": 41,
     "metadata": {},
     "output_type": "execute_result"
    }
   ],
   "source": [
    "drop_dates = drop_dates[drop_dates['s_date'].dt.month != 4]\n",
    "drop_dates.tail()"
   ]
  },
  {
   "attachments": {},
   "cell_type": "markdown",
   "metadata": {},
   "source": [
    "### Test data goes from 1st-7th April"
   ]
  },
  {
   "cell_type": "code",
   "execution_count": null,
   "metadata": {},
   "outputs": [],
   "source": [
    "##code to get the test data"
   ]
  },
  {
   "attachments": {},
   "cell_type": "markdown",
   "metadata": {},
   "source": [
    "#### Now seperate drop dates into training and validation data"
   ]
  },
  {
   "cell_type": "code",
   "execution_count": 44,
   "metadata": {},
   "outputs": [
    {
     "data": {
      "text/html": [
       "<div>\n",
       "<style scoped>\n",
       "    .dataframe tbody tr th:only-of-type {\n",
       "        vertical-align: middle;\n",
       "    }\n",
       "\n",
       "    .dataframe tbody tr th {\n",
       "        vertical-align: top;\n",
       "    }\n",
       "\n",
       "    .dataframe thead th {\n",
       "        text-align: right;\n",
       "    }\n",
       "</style>\n",
       "<table border=\"1\" class=\"dataframe\">\n",
       "  <thead>\n",
       "    <tr style=\"text-align: right;\">\n",
       "      <th></th>\n",
       "      <th>number</th>\n",
       "      <th>name</th>\n",
       "      <th>bike_stands</th>\n",
       "      <th>available_bike_stands</th>\n",
       "      <th>available_bikes</th>\n",
       "      <th>status</th>\n",
       "      <th>s_date</th>\n",
       "      <th>s_time</th>\n",
       "    </tr>\n",
       "  </thead>\n",
       "  <tbody>\n",
       "    <tr>\n",
       "      <th>707154</th>\n",
       "      <td>85</td>\n",
       "      <td>ROTHE ABBEY</td>\n",
       "      <td>35</td>\n",
       "      <td>22</td>\n",
       "      <td>13</td>\n",
       "      <td>OPEN</td>\n",
       "      <td>2023-03-24</td>\n",
       "      <td>23:59:23</td>\n",
       "    </tr>\n",
       "    <tr>\n",
       "      <th>707158</th>\n",
       "      <td>89</td>\n",
       "      <td>FITZWILLIAM SQUARE EAST</td>\n",
       "      <td>40</td>\n",
       "      <td>39</td>\n",
       "      <td>1</td>\n",
       "      <td>OPEN</td>\n",
       "      <td>2023-03-24</td>\n",
       "      <td>23:57:19</td>\n",
       "    </tr>\n",
       "    <tr>\n",
       "      <th>707163</th>\n",
       "      <td>40</td>\n",
       "      <td>JERVIS STREET</td>\n",
       "      <td>21</td>\n",
       "      <td>4</td>\n",
       "      <td>17</td>\n",
       "      <td>OPEN</td>\n",
       "      <td>2023-03-24</td>\n",
       "      <td>23:56:56</td>\n",
       "    </tr>\n",
       "    <tr>\n",
       "      <th>707165</th>\n",
       "      <td>103</td>\n",
       "      <td>GRANGEGORMAN LOWER (SOUTH)</td>\n",
       "      <td>40</td>\n",
       "      <td>39</td>\n",
       "      <td>1</td>\n",
       "      <td>OPEN</td>\n",
       "      <td>2023-03-24</td>\n",
       "      <td>23:58:12</td>\n",
       "    </tr>\n",
       "    <tr>\n",
       "      <th>707168</th>\n",
       "      <td>83</td>\n",
       "      <td>EMMET ROAD</td>\n",
       "      <td>40</td>\n",
       "      <td>31</td>\n",
       "      <td>9</td>\n",
       "      <td>OPEN</td>\n",
       "      <td>2023-03-24</td>\n",
       "      <td>23:57:58</td>\n",
       "    </tr>\n",
       "  </tbody>\n",
       "</table>\n",
       "</div>"
      ],
      "text/plain": [
       "        number                        name  bike_stands  \\\n",
       "707154      85                 ROTHE ABBEY           35   \n",
       "707158      89     FITZWILLIAM SQUARE EAST           40   \n",
       "707163      40               JERVIS STREET           21   \n",
       "707165     103  GRANGEGORMAN LOWER (SOUTH)           40   \n",
       "707168      83                  EMMET ROAD           40   \n",
       "\n",
       "        available_bike_stands  available_bikes status     s_date    s_time  \n",
       "707154                     22               13   OPEN 2023-03-24  23:59:23  \n",
       "707158                     39                1   OPEN 2023-03-24  23:57:19  \n",
       "707163                      4               17   OPEN 2023-03-24  23:56:56  \n",
       "707165                     39                1   OPEN 2023-03-24  23:58:12  \n",
       "707168                     31                9   OPEN 2023-03-24  23:57:58  "
      ]
     },
     "execution_count": 44,
     "metadata": {},
     "output_type": "execute_result"
    }
   ],
   "source": [
    "training_data=drop_dates[drop_dates['s_date']<='2023-03-24']\n",
    "training_data.tail()"
   ]
  },
  {
   "cell_type": "code",
   "execution_count": 45,
   "metadata": {},
   "outputs": [
    {
     "data": {
      "text/html": [
       "<div>\n",
       "<style scoped>\n",
       "    .dataframe tbody tr th:only-of-type {\n",
       "        vertical-align: middle;\n",
       "    }\n",
       "\n",
       "    .dataframe tbody tr th {\n",
       "        vertical-align: top;\n",
       "    }\n",
       "\n",
       "    .dataframe thead th {\n",
       "        text-align: right;\n",
       "    }\n",
       "</style>\n",
       "<table border=\"1\" class=\"dataframe\">\n",
       "  <thead>\n",
       "    <tr style=\"text-align: right;\">\n",
       "      <th></th>\n",
       "      <th>number</th>\n",
       "      <th>name</th>\n",
       "      <th>bike_stands</th>\n",
       "      <th>available_bike_stands</th>\n",
       "      <th>available_bikes</th>\n",
       "      <th>status</th>\n",
       "      <th>s_date</th>\n",
       "      <th>s_time</th>\n",
       "    </tr>\n",
       "  </thead>\n",
       "  <tbody>\n",
       "    <tr>\n",
       "      <th>706946</th>\n",
       "      <td>54</td>\n",
       "      <td>CLONMEL STREET</td>\n",
       "      <td>33</td>\n",
       "      <td>29</td>\n",
       "      <td>4</td>\n",
       "      <td>OPEN</td>\n",
       "      <td>2023-03-25</td>\n",
       "      <td>00:00:17</td>\n",
       "    </tr>\n",
       "    <tr>\n",
       "      <th>706952</th>\n",
       "      <td>32</td>\n",
       "      <td>PEARSE STREET</td>\n",
       "      <td>30</td>\n",
       "      <td>24</td>\n",
       "      <td>6</td>\n",
       "      <td>OPEN</td>\n",
       "      <td>2023-03-25</td>\n",
       "      <td>00:00:27</td>\n",
       "    </tr>\n",
       "    <tr>\n",
       "      <th>706960</th>\n",
       "      <td>1</td>\n",
       "      <td>CLARENDON ROW</td>\n",
       "      <td>31</td>\n",
       "      <td>20</td>\n",
       "      <td>11</td>\n",
       "      <td>OPEN</td>\n",
       "      <td>2023-03-25</td>\n",
       "      <td>00:00:30</td>\n",
       "    </tr>\n",
       "    <tr>\n",
       "      <th>706961</th>\n",
       "      <td>23</td>\n",
       "      <td>CUSTOM HOUSE</td>\n",
       "      <td>30</td>\n",
       "      <td>3</td>\n",
       "      <td>27</td>\n",
       "      <td>OPEN</td>\n",
       "      <td>2023-03-25</td>\n",
       "      <td>00:00:07</td>\n",
       "    </tr>\n",
       "    <tr>\n",
       "      <th>706964</th>\n",
       "      <td>68</td>\n",
       "      <td>HANOVER QUAY</td>\n",
       "      <td>40</td>\n",
       "      <td>31</td>\n",
       "      <td>9</td>\n",
       "      <td>OPEN</td>\n",
       "      <td>2023-03-25</td>\n",
       "      <td>00:00:06</td>\n",
       "    </tr>\n",
       "  </tbody>\n",
       "</table>\n",
       "</div>"
      ],
      "text/plain": [
       "        number            name  bike_stands  available_bike_stands  \\\n",
       "706946      54  CLONMEL STREET           33                     29   \n",
       "706952      32   PEARSE STREET           30                     24   \n",
       "706960       1   CLARENDON ROW           31                     20   \n",
       "706961      23    CUSTOM HOUSE           30                      3   \n",
       "706964      68    HANOVER QUAY           40                     31   \n",
       "\n",
       "        available_bikes status     s_date    s_time  \n",
       "706946                4   OPEN 2023-03-25  00:00:17  \n",
       "706952                6   OPEN 2023-03-25  00:00:27  \n",
       "706960               11   OPEN 2023-03-25  00:00:30  \n",
       "706961               27   OPEN 2023-03-25  00:00:07  \n",
       "706964                9   OPEN 2023-03-25  00:00:06  "
      ]
     },
     "execution_count": 45,
     "metadata": {},
     "output_type": "execute_result"
    }
   ],
   "source": [
    "validation_data=drop_dates[drop_dates['s_date']>'2023-03-24']\n",
    "validation_data.head()"
   ]
  },
  {
   "cell_type": "code",
   "execution_count": null,
   "metadata": {},
   "outputs": [],
   "source": [
    "###do the same for test data"
   ]
  },
  {
   "attachments": {},
   "cell_type": "markdown",
   "metadata": {},
   "source": [
    "### Do the same for the corresponding weather data for each training set"
   ]
  },
  {
   "cell_type": "code",
   "execution_count": null,
   "metadata": {},
   "outputs": [],
   "source": []
  },
  {
   "attachments": {},
   "cell_type": "markdown",
   "metadata": {},
   "source": [
    "### When the code is merged what columns will I keep:\n",
    "- Name\n",
    "- Bike_stands, available_bikes and available_bike stands\n",
    "- s_date- to convert to the correct day\n",
    "- s_time to convert to the nearest hour\n",
    "- temperature\n",
    "- wind_speed\n",
    "- rain_1 \n",
    "- weather_main\n",
    "\n",
    "- Reasoning: I think time of day, extremely high/low temp, extremely high winds and heavy rainfall can predict a variance in bike use"
   ]
  },
  {
   "cell_type": "code",
   "execution_count": 68,
   "metadata": {},
   "outputs": [],
   "source": [
    "## get data to work for the first 7 days 4th to 9th March\n",
    "training_weather=training_data[training_data['s_date']<='2023-03-09']"
   ]
  },
  {
   "cell_type": "code",
   "execution_count": 69,
   "metadata": {},
   "outputs": [],
   "source": [
    "df_weather = pd.read_csv('weather_30_3_23.csv')\n"
   ]
  },
  {
   "attachments": {},
   "cell_type": "markdown",
   "metadata": {},
   "source": [
    "### What does the following do"
   ]
  },
  {
   "cell_type": "code",
   "execution_count": 70,
   "metadata": {},
   "outputs": [
    {
     "name": "stderr",
     "output_type": "stream",
     "text": [
      "/tmp/ipykernel_8959/2236723038.py:1: SettingWithCopyWarning: \n",
      "A value is trying to be set on a copy of a slice from a DataFrame.\n",
      "Try using .loc[row_indexer,col_indexer] = value instead\n",
      "\n",
      "See the caveats in the documentation: https://pandas.pydata.org/pandas-docs/stable/user_guide/indexing.html#returning-a-view-versus-a-copy\n",
      "  training_weather['s_time'] =training_weather['s_time'].astype(str).apply(lambda x: str(x).split(' ')[-1])\n",
      "/tmp/ipykernel_8959/2236723038.py:3: SettingWithCopyWarning: \n",
      "A value is trying to be set on a copy of a slice from a DataFrame.\n",
      "Try using .loc[row_indexer,col_indexer] = value instead\n",
      "\n",
      "See the caveats in the documentation: https://pandas.pydata.org/pandas-docs/stable/user_guide/indexing.html#returning-a-view-versus-a-copy\n",
      "  training_weather['datetime'] = pd.to_datetime(training_weather['s_date'].astype(str) + ' ' + training_weather['s_time'].astype(str).apply(lambda x: str(x).split(' ')[-1]))\n"
     ]
    }
   ],
   "source": [
    "training_weather['s_time'] =training_weather['s_time'].astype(str).apply(lambda x: str(x).split(' ')[-1])\n",
    "df_weather['w_time'] = df_weather['w_time'].astype(str).apply(lambda x: str(x).split(' ')[-1])\n",
    "training_weather['datetime'] = pd.to_datetime(training_weather['s_date'].astype(str) + ' ' + training_weather['s_time'].astype(str).apply(lambda x: str(x).split(' ')[-1]))\n",
    "df_weather['datetime'] = pd.to_datetime(df_weather['w_date'].astype(str) + ' ' + df_weather['w_time'].astype(str).apply(lambda x: str(x).split(' ')[-1]))"
   ]
  },
  {
   "cell_type": "code",
   "execution_count": 71,
   "metadata": {},
   "outputs": [
    {
     "data": {
      "text/html": [
       "<div>\n",
       "<style scoped>\n",
       "    .dataframe tbody tr th:only-of-type {\n",
       "        vertical-align: middle;\n",
       "    }\n",
       "\n",
       "    .dataframe tbody tr th {\n",
       "        vertical-align: top;\n",
       "    }\n",
       "\n",
       "    .dataframe thead th {\n",
       "        text-align: right;\n",
       "    }\n",
       "</style>\n",
       "<table border=\"1\" class=\"dataframe\">\n",
       "  <thead>\n",
       "    <tr style=\"text-align: right;\">\n",
       "      <th></th>\n",
       "      <th>number</th>\n",
       "      <th>name</th>\n",
       "      <th>bike_stands</th>\n",
       "      <th>available_bike_stands</th>\n",
       "      <th>available_bikes</th>\n",
       "      <th>status</th>\n",
       "      <th>s_date</th>\n",
       "      <th>s_time</th>\n",
       "      <th>datetime</th>\n",
       "      <th>latitude</th>\n",
       "      <th>...</th>\n",
       "      <th>wind_direction</th>\n",
       "      <th>rain_1</th>\n",
       "      <th>rain_3</th>\n",
       "      <th>snow_1</th>\n",
       "      <th>snow_3</th>\n",
       "      <th>clouds</th>\n",
       "      <th>sunrise</th>\n",
       "      <th>sunset</th>\n",
       "      <th>w_date</th>\n",
       "      <th>w_time</th>\n",
       "    </tr>\n",
       "  </thead>\n",
       "  <tbody>\n",
       "    <tr>\n",
       "      <th>196219</th>\n",
       "      <td>96</td>\n",
       "      <td>KILMAINHAM LANE</td>\n",
       "      <td>30</td>\n",
       "      <td>28</td>\n",
       "      <td>2</td>\n",
       "      <td>OPEN</td>\n",
       "      <td>2023-03-09</td>\n",
       "      <td>23:59:42</td>\n",
       "      <td>2023-03-09 23:59:42</td>\n",
       "      <td>53.3467</td>\n",
       "      <td>...</td>\n",
       "      <td>90</td>\n",
       "      <td>2.59</td>\n",
       "      <td>NaN</td>\n",
       "      <td>0</td>\n",
       "      <td>0</td>\n",
       "      <td>75</td>\n",
       "      <td>1678344904</td>\n",
       "      <td>1678385792</td>\n",
       "      <td>2023-03-09</td>\n",
       "      <td>08:38:06</td>\n",
       "    </tr>\n",
       "    <tr>\n",
       "      <th>196220</th>\n",
       "      <td>96</td>\n",
       "      <td>KILMAINHAM LANE</td>\n",
       "      <td>30</td>\n",
       "      <td>28</td>\n",
       "      <td>2</td>\n",
       "      <td>OPEN</td>\n",
       "      <td>2023-03-09</td>\n",
       "      <td>23:59:42</td>\n",
       "      <td>2023-03-09 23:59:42</td>\n",
       "      <td>53.3467</td>\n",
       "      <td>...</td>\n",
       "      <td>90</td>\n",
       "      <td>2.59</td>\n",
       "      <td>NaN</td>\n",
       "      <td>0</td>\n",
       "      <td>0</td>\n",
       "      <td>75</td>\n",
       "      <td>1678344904</td>\n",
       "      <td>1678385792</td>\n",
       "      <td>2023-03-09</td>\n",
       "      <td>08:38:06</td>\n",
       "    </tr>\n",
       "    <tr>\n",
       "      <th>196221</th>\n",
       "      <td>99</td>\n",
       "      <td>CITY QUAY</td>\n",
       "      <td>30</td>\n",
       "      <td>29</td>\n",
       "      <td>1</td>\n",
       "      <td>OPEN</td>\n",
       "      <td>2023-03-09</td>\n",
       "      <td>23:59:49</td>\n",
       "      <td>2023-03-09 23:59:49</td>\n",
       "      <td>53.3467</td>\n",
       "      <td>...</td>\n",
       "      <td>90</td>\n",
       "      <td>2.59</td>\n",
       "      <td>NaN</td>\n",
       "      <td>0</td>\n",
       "      <td>0</td>\n",
       "      <td>75</td>\n",
       "      <td>1678344904</td>\n",
       "      <td>1678385792</td>\n",
       "      <td>2023-03-09</td>\n",
       "      <td>08:38:06</td>\n",
       "    </tr>\n",
       "    <tr>\n",
       "      <th>196222</th>\n",
       "      <td>99</td>\n",
       "      <td>CITY QUAY</td>\n",
       "      <td>30</td>\n",
       "      <td>29</td>\n",
       "      <td>1</td>\n",
       "      <td>OPEN</td>\n",
       "      <td>2023-03-09</td>\n",
       "      <td>23:59:49</td>\n",
       "      <td>2023-03-09 23:59:49</td>\n",
       "      <td>53.3467</td>\n",
       "      <td>...</td>\n",
       "      <td>90</td>\n",
       "      <td>2.59</td>\n",
       "      <td>NaN</td>\n",
       "      <td>0</td>\n",
       "      <td>0</td>\n",
       "      <td>75</td>\n",
       "      <td>1678344904</td>\n",
       "      <td>1678385792</td>\n",
       "      <td>2023-03-09</td>\n",
       "      <td>08:38:06</td>\n",
       "    </tr>\n",
       "    <tr>\n",
       "      <th>196223</th>\n",
       "      <td>64</td>\n",
       "      <td>SANDWITH STREET</td>\n",
       "      <td>40</td>\n",
       "      <td>21</td>\n",
       "      <td>19</td>\n",
       "      <td>OPEN</td>\n",
       "      <td>2023-03-09</td>\n",
       "      <td>23:59:58</td>\n",
       "      <td>2023-03-09 23:59:58</td>\n",
       "      <td>53.3467</td>\n",
       "      <td>...</td>\n",
       "      <td>90</td>\n",
       "      <td>2.59</td>\n",
       "      <td>NaN</td>\n",
       "      <td>0</td>\n",
       "      <td>0</td>\n",
       "      <td>75</td>\n",
       "      <td>1678344904</td>\n",
       "      <td>1678385792</td>\n",
       "      <td>2023-03-09</td>\n",
       "      <td>08:38:06</td>\n",
       "    </tr>\n",
       "  </tbody>\n",
       "</table>\n",
       "<p>5 rows × 33 columns</p>\n",
       "</div>"
      ],
      "text/plain": [
       "        number             name  bike_stands  available_bike_stands  \\\n",
       "196219      96  KILMAINHAM LANE           30                     28   \n",
       "196220      96  KILMAINHAM LANE           30                     28   \n",
       "196221      99        CITY QUAY           30                     29   \n",
       "196222      99        CITY QUAY           30                     29   \n",
       "196223      64  SANDWITH STREET           40                     21   \n",
       "\n",
       "        available_bikes status     s_date    s_time            datetime  \\\n",
       "196219                2   OPEN 2023-03-09  23:59:42 2023-03-09 23:59:42   \n",
       "196220                2   OPEN 2023-03-09  23:59:42 2023-03-09 23:59:42   \n",
       "196221                1   OPEN 2023-03-09  23:59:49 2023-03-09 23:59:49   \n",
       "196222                1   OPEN 2023-03-09  23:59:49 2023-03-09 23:59:49   \n",
       "196223               19   OPEN 2023-03-09  23:59:58 2023-03-09 23:59:58   \n",
       "\n",
       "        latitude  ...  wind_direction  rain_1 rain_3 snow_1 snow_3  clouds  \\\n",
       "196219   53.3467  ...              90    2.59    NaN      0      0      75   \n",
       "196220   53.3467  ...              90    2.59    NaN      0      0      75   \n",
       "196221   53.3467  ...              90    2.59    NaN      0      0      75   \n",
       "196222   53.3467  ...              90    2.59    NaN      0      0      75   \n",
       "196223   53.3467  ...              90    2.59    NaN      0      0      75   \n",
       "\n",
       "           sunrise      sunset      w_date    w_time  \n",
       "196219  1678344904  1678385792  2023-03-09  08:38:06  \n",
       "196220  1678344904  1678385792  2023-03-09  08:38:06  \n",
       "196221  1678344904  1678385792  2023-03-09  08:38:06  \n",
       "196222  1678344904  1678385792  2023-03-09  08:38:06  \n",
       "196223  1678344904  1678385792  2023-03-09  08:38:06  \n",
       "\n",
       "[5 rows x 33 columns]"
      ]
     },
     "execution_count": 71,
     "metadata": {},
     "output_type": "execute_result"
    }
   ],
   "source": [
    "training_weather = training_weather.sort_values('datetime')\n",
    "df_weather = df_weather.sort_values('datetime')\n",
    "\n",
    "df_main = pd.merge_asof(training_weather, df_weather, on='datetime', direction='nearest')\n",
    "df_main.tail()"
   ]
  },
  {
   "attachments": {},
   "cell_type": "markdown",
   "metadata": {},
   "source": [
    "# Cleaning the dataframe"
   ]
  },
  {
   "cell_type": "code",
   "execution_count": 72,
   "metadata": {},
   "outputs": [
    {
     "data": {
      "text/plain": [
       "Index(['number', 'name', 'bike_stands', 'available_bike_stands',\n",
       "       'available_bikes', 'status', 's_date', 's_time', 'datetime', 'latitude',\n",
       "       'longitude', 'weather_id', 'weather_main', 'weather_description',\n",
       "       'weather_icon', 'temperature', 'feels_like', 'temp_min', 'temp_max',\n",
       "       'pressure', 'humidity', 'visibility', 'wind_speed', 'wind_direction',\n",
       "       'rain_1', 'rain_3', 'snow_1', 'snow_3', 'clouds', 'sunrise', 'sunset',\n",
       "       'w_date', 'w_time'],\n",
       "      dtype='object')"
      ]
     },
     "execution_count": 72,
     "metadata": {},
     "output_type": "execute_result"
    }
   ],
   "source": [
    "df_main.columns"
   ]
  },
  {
   "cell_type": "code",
   "execution_count": 73,
   "metadata": {},
   "outputs": [],
   "source": [
    "df_main = df_main.drop(['name', 'status', 's_date', 's_time','latitude',\n",
    "       'longitude', 'weather_id', 'weather_description',\n",
    "       'weather_icon', 'feels_like', 'temp_min', 'temp_max',\n",
    "       'pressure','humidity', 'visibility','wind_direction',\n",
    "        'rain_3', 'snow_1', 'snow_3', 'clouds', 'sunrise', 'sunset',\n",
    "       'w_date', 'w_time'], axis = 1)"
   ]
  },
  {
   "cell_type": "code",
   "execution_count": 74,
   "metadata": {},
   "outputs": [
    {
     "data": {
      "text/plain": [
       "0         0.20\n",
       "1         0.20\n",
       "2         0.25\n",
       "3         1.00\n",
       "4         1.00\n",
       "          ... \n",
       "196219    0.07\n",
       "196220    0.07\n",
       "196221    0.03\n",
       "196222    0.03\n",
       "196223    0.48\n",
       "Name: availability_percentage, Length: 196224, dtype: float64"
      ]
     },
     "execution_count": 74,
     "metadata": {},
     "output_type": "execute_result"
    }
   ],
   "source": [
    "df_main[\"availability_percentage\"] = df_main[\"available_bikes\"]/(df_main[\"bike_stands\"])\n",
    "df_main[\"availability_percentage\"].round(2)"
   ]
  },
  {
   "cell_type": "code",
   "execution_count": 75,
   "metadata": {},
   "outputs": [
    {
     "data": {
      "text/plain": [
       "Index(['number', 'bike_stands', 'available_bike_stands', 'available_bikes',\n",
       "       'datetime', 'weather_main', 'temperature', 'wind_speed', 'rain_1',\n",
       "       'availability_percentage'],\n",
       "      dtype='object')"
      ]
     },
     "execution_count": 75,
     "metadata": {},
     "output_type": "execute_result"
    }
   ],
   "source": [
    "df_main.columns"
   ]
  },
  {
   "cell_type": "code",
   "execution_count": 76,
   "metadata": {},
   "outputs": [],
   "source": [
    "df_main[\"temperature\"] = df_main[\"temperature\"] - 275.15"
   ]
  },
  {
   "cell_type": "code",
   "execution_count": 77,
   "metadata": {},
   "outputs": [
    {
     "data": {
      "text/plain": [
       "array(['Clouds', 'Drizzle', 'Rain', 'Clear'], dtype=object)"
      ]
     },
     "execution_count": 77,
     "metadata": {},
     "output_type": "execute_result"
    }
   ],
   "source": [
    "df_main[\"weather_main\"].unique()"
   ]
  },
  {
   "cell_type": "code",
   "execution_count": 78,
   "metadata": {},
   "outputs": [],
   "source": [
    "df_main[\"datetime\"] = pd.to_datetime(df_main[\"datetime\"])\n",
    "df_main[\"year\"] = df_main[\"datetime\"].dt.year\n",
    "df_main[\"month\"] = df_main[\"datetime\"].dt.month\n",
    "df_main[\"day\"] = df_main[\"datetime\"].dt.day\n",
    "df_main[\"time\"] = df_main[\"datetime\"].dt.time\n",
    "df_main[\"hour\"] = df_main[\"datetime\"].dt.round(\"H\").dt.hour.astype(int)\n",
    "df_main[\"day_of_week\"] = df_main[\"datetime\"].dt.strftime('%A')"
   ]
  },
  {
   "attachments": {},
   "cell_type": "markdown",
   "metadata": {},
   "source": [
    "# One-hot encoding for categorical"
   ]
  },
  {
   "cell_type": "code",
   "execution_count": 79,
   "metadata": {},
   "outputs": [],
   "source": [
    "one_hot = pd.get_dummies(df_main[\"weather_main\"])\n",
    "df_main = pd.concat([df_main, one_hot], axis = 1)"
   ]
  },
  {
   "cell_type": "code",
   "execution_count": 80,
   "metadata": {},
   "outputs": [],
   "source": [
    "one_hot = pd.get_dummies(df_main[\"day_of_week\"])\n",
    "df_main = pd.concat([df_main, one_hot], axis = 1)"
   ]
  },
  {
   "cell_type": "code",
   "execution_count": 81,
   "metadata": {},
   "outputs": [],
   "source": [
    "df_main = df_main.drop(['datetime', 'weather_main', 'year',\n",
    "       'month', 'day', 'time', 'day_of_week'], axis = 1)"
   ]
  },
  {
   "cell_type": "code",
   "execution_count": 82,
   "metadata": {},
   "outputs": [],
   "source": [
    "for column in df_main.columns:\n",
    "    if df_main[column].dtype == \"uint8\":\n",
    "        df_main[column] = df_main[column].astype(\"int64\")"
   ]
  },
  {
   "cell_type": "code",
   "execution_count": 83,
   "metadata": {},
   "outputs": [
    {
     "data": {
      "text/plain": [
       "number                       int64\n",
       "bike_stands                  int64\n",
       "available_bike_stands        int64\n",
       "available_bikes              int64\n",
       "temperature                float64\n",
       "wind_speed                 float64\n",
       "rain_1                     float64\n",
       "availability_percentage    float64\n",
       "hour                         int64\n",
       "Clear                        int64\n",
       "Clouds                       int64\n",
       "Drizzle                      int64\n",
       "Rain                         int64\n",
       "Monday                       int64\n",
       "Saturday                     int64\n",
       "Sunday                       int64\n",
       "Thursday                     int64\n",
       "Tuesday                      int64\n",
       "Wednesday                    int64\n",
       "dtype: object"
      ]
     },
     "execution_count": 83,
     "metadata": {},
     "output_type": "execute_result"
    }
   ],
   "source": [
    "df_main.dtypes"
   ]
  },
  {
   "attachments": {},
   "cell_type": "markdown",
   "metadata": {},
   "source": [
    "### Divide data into training/validation and testing\n",
    "- Drop all data for the 3rd March\n",
    "- Train- first 3 weeks, Validation next 1 week. Test 1 week\n",
    "- Starting at Saturday 00:00AM\n",
    "- Dates Training 4/3/23 to end of 24/3/23\n",
    "- Dates validation 25/3/23 to end of 31st\n",
    "- Dates training 1/4/23 to end of 7/4th/23\n"
   ]
  },
  {
   "cell_type": "code",
   "execution_count": 84,
   "metadata": {},
   "outputs": [],
   "source": [
    "from sklearn.model_selection import train_test_split\n",
    "\n",
    "def divide_data(station_number, dataframe):\n",
    "    df_main = dataframe[dataframe[\"number\"] == station_number].copy()\n",
    "\n",
    "    # Split the data into train and test sets\n",
    "    ## i disagree here, we should split the data into train, test and validation sets\n",
    "\n",
    "\n",
    "\n",
    "    train, test = train_test_split(df_main, test_size=0.2, random_state=42)\n",
    "\n",
    "    # Split the train and test sets into x and y\n",
    "    x_train = train.drop(\"availability_percentage\", axis=1)\n",
    "    y_train = train[\"availability_percentage\"]\n",
    "    x_test = test.drop(\"availability_percentage\", axis=1)\n",
    "    y_test = test[\"availability_percentage\"]\n",
    "\n",
    "    return df_main, x_train, y_train, x_test, y_test\n"
   ]
  },
  {
   "attachments": {},
   "cell_type": "markdown",
   "metadata": {},
   "source": [
    "# Check the relation between x columns and y column\n",
    "\n",
    "if you find some unrelated input columns from the scatter below, you can drop it"
   ]
  },
  {
   "cell_type": "code",
   "execution_count": 85,
   "metadata": {},
   "outputs": [],
   "source": [
    "def check_xy(x, y):\n",
    "    for column in x.columns:\n",
    "        plt.scatter(x[column], y)\n",
    "        plt.title(column)\n",
    "        plt.ylabel(\"Availability\")\n",
    "        plt.xlabel(column)\n",
    "        plt.show()"
   ]
  },
  {
   "attachments": {},
   "cell_type": "markdown",
   "metadata": {},
   "source": [
    "# Training the model"
   ]
  },
  {
   "cell_type": "code",
   "execution_count": 86,
   "metadata": {},
   "outputs": [],
   "source": [
    "def training_model(train_x, train_y, test_x, test_y):\n",
    "    reg = LinearRegression()\n",
    "    reg.fit(train_x, train_y)\n",
    "    print(f\"train score : {reg.score(train_x, train_y)}\")\n",
    "    print(f\"test score : {reg.score(test_x, test_y)}\")\n",
    "    return reg"
   ]
  },
  {
   "attachments": {},
   "cell_type": "markdown",
   "metadata": {},
   "source": [
    "# Save the model into a folder"
   ]
  },
  {
   "cell_type": "code",
   "execution_count": 87,
   "metadata": {},
   "outputs": [],
   "source": [
    "import pickle\n",
    "\n",
    "\n",
    "def save_model(model, stationnumber):\n",
    "    filename = f'/home/cian/Documents/GitHub/dublinbikes/datamodel/models/model_{stationnumber}.pkl'\n",
    "    with open(filename, 'wb') as file:\n",
    "        pickle.dump(model, file)"
   ]
  },
  {
   "attachments": {},
   "cell_type": "markdown",
   "metadata": {},
   "source": [
    "# Execute the models with for loop"
   ]
  },
  {
   "cell_type": "code",
   "execution_count": 89,
   "metadata": {},
   "outputs": [
    {
     "name": "stdout",
     "output_type": "stream",
     "text": [
      "train score : 1.0\n",
      "test score : 1.0\n"
     ]
    },
    {
     "ename": "FileNotFoundError",
     "evalue": "[Errno 2] No such file or directory: '/home/cian/Documents/GitHub/dublinbikes/datamodel/models/model_20.pkl'",
     "output_type": "error",
     "traceback": [
      "\u001b[0;31m---------------------------------------------------------------------------\u001b[0m",
      "\u001b[0;31mFileNotFoundError\u001b[0m                         Traceback (most recent call last)",
      "Cell \u001b[0;32mIn[89], line 4\u001b[0m\n\u001b[1;32m      2\u001b[0m df_station, x_train, y_train, x_test, y_test \u001b[39m=\u001b[39m divide_data(station_number, df_main)\n\u001b[1;32m      3\u001b[0m model \u001b[39m=\u001b[39m training_model(x_train, y_train, x_test, y_test)\n\u001b[0;32m----> 4\u001b[0m save_model(model, station_number)\n",
      "Cell \u001b[0;32mIn[87], line 6\u001b[0m, in \u001b[0;36msave_model\u001b[0;34m(model, stationnumber)\u001b[0m\n\u001b[1;32m      4\u001b[0m \u001b[39mdef\u001b[39;00m \u001b[39msave_model\u001b[39m(model, stationnumber):\n\u001b[1;32m      5\u001b[0m     filename \u001b[39m=\u001b[39m \u001b[39mf\u001b[39m\u001b[39m'\u001b[39m\u001b[39m/home/cian/Documents/GitHub/dublinbikes/datamodel/models/model_\u001b[39m\u001b[39m{\u001b[39;00mstationnumber\u001b[39m}\u001b[39;00m\u001b[39m.pkl\u001b[39m\u001b[39m'\u001b[39m\n\u001b[0;32m----> 6\u001b[0m     \u001b[39mwith\u001b[39;00m \u001b[39mopen\u001b[39;49m(filename, \u001b[39m'\u001b[39;49m\u001b[39mwb\u001b[39;49m\u001b[39m'\u001b[39;49m) \u001b[39mas\u001b[39;00m file:\n\u001b[1;32m      7\u001b[0m         pickle\u001b[39m.\u001b[39mdump(model, file)\n",
      "File \u001b[0;32m~/anaconda3/envs/comp30830_t/lib/python3.10/site-packages/IPython/core/interactiveshell.py:282\u001b[0m, in \u001b[0;36m_modified_open\u001b[0;34m(file, *args, **kwargs)\u001b[0m\n\u001b[1;32m    275\u001b[0m \u001b[39mif\u001b[39;00m file \u001b[39min\u001b[39;00m {\u001b[39m0\u001b[39m, \u001b[39m1\u001b[39m, \u001b[39m2\u001b[39m}:\n\u001b[1;32m    276\u001b[0m     \u001b[39mraise\u001b[39;00m \u001b[39mValueError\u001b[39;00m(\n\u001b[1;32m    277\u001b[0m         \u001b[39mf\u001b[39m\u001b[39m\"\u001b[39m\u001b[39mIPython won\u001b[39m\u001b[39m'\u001b[39m\u001b[39mt let you open fd=\u001b[39m\u001b[39m{\u001b[39;00mfile\u001b[39m}\u001b[39;00m\u001b[39m by default \u001b[39m\u001b[39m\"\u001b[39m\n\u001b[1;32m    278\u001b[0m         \u001b[39m\"\u001b[39m\u001b[39mas it is likely to crash IPython. If you know what you are doing, \u001b[39m\u001b[39m\"\u001b[39m\n\u001b[1;32m    279\u001b[0m         \u001b[39m\"\u001b[39m\u001b[39myou can use builtins\u001b[39m\u001b[39m'\u001b[39m\u001b[39m open.\u001b[39m\u001b[39m\"\u001b[39m\n\u001b[1;32m    280\u001b[0m     )\n\u001b[0;32m--> 282\u001b[0m \u001b[39mreturn\u001b[39;00m io_open(file, \u001b[39m*\u001b[39;49margs, \u001b[39m*\u001b[39;49m\u001b[39m*\u001b[39;49mkwargs)\n",
      "\u001b[0;31mFileNotFoundError\u001b[0m: [Errno 2] No such file or directory: '/home/cian/Documents/GitHub/dublinbikes/datamodel/models/model_20.pkl'"
     ]
    }
   ],
   "source": [
    "for station_number in df_main[\"number\"].unique():\n",
    "    df_station, x_train, y_train, x_test, y_test = divide_data(station_number, df_main)\n",
    "    model = training_model(x_train, y_train, x_test, y_test)\n",
    "    save_model(model, station_number)"
   ]
  },
  {
   "cell_type": "code",
   "execution_count": null,
   "metadata": {},
   "outputs": [],
   "source": []
  }
 ],
 "metadata": {
  "kernelspec": {
   "display_name": "comp30830_t",
   "language": "python",
   "name": "python3"
  },
  "language_info": {
   "codemirror_mode": {
    "name": "ipython",
    "version": 3
   },
   "file_extension": ".py",
   "mimetype": "text/x-python",
   "name": "python",
   "nbconvert_exporter": "python",
   "pygments_lexer": "ipython3",
   "version": "3.10.7"
  },
  "orig_nbformat": 4
 },
 "nbformat": 4,
 "nbformat_minor": 2
}
