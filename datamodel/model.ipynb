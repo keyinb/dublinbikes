{
 "cells": [
  {
   "attachments": {},
   "cell_type": "markdown",
   "metadata": {},
   "source": [
    "# Machine Learning Model for Dublin Bikes application"
   ]
  },
  {
   "cell_type": "code",
   "execution_count": 3,
   "metadata": {},
   "outputs": [],
   "source": [
    "import pickle\n",
    "import pandas as pd\n",
    "import numpy as np\n",
    "from sklearn.linear_model import LinearRegression"
   ]
  },
  {
   "cell_type": "code",
   "execution_count": null,
   "metadata": {},
   "outputs": [],
   "source": [
    "def get_features(df):\n",
    "    \"\"\"Extract features from dataframe\"\"\"\n",
    "    features = df.drop(['available_bikes', 'available_bike_stands', 'number'], axis=1)\n",
    "    return features"
   ]
  },
  {
   "cell_type": "code",
   "execution_count": null,
   "metadata": {},
   "outputs": [],
   "source": [
    "def get_availability(df):\n",
    "    \"\"\"Extract availability from dataframe\"\"\"\n",
    "    availability = df['available_bikes']\n",
    "    return availability"
   ]
  },
  {
   "cell_type": "code",
   "execution_count": null,
   "metadata": {},
   "outputs": [],
   "source": [
    "X = get_features(station=station_id)\n",
    "y = get_availability(station=station_id)\n",
    "X_train, X_test, y_train, y_test = train_test_split(X, y)\n",
    "# fit final model\n",
    "model[station_id] = LogisticRegression() # choose your own model here...\n",
    "model[station_id].fit(X_train, y_train)\n",
    "# evaluate...\n",
    "# define one new instance\n",
    "Xnew = [[date, time, wind, temp, ...]] # query features\n",
    "# make a prediction\n",
    "ynew = model[station_id].predict(Xnew)\n",
    "print(\"X=%s, Predicted=%s\" % (Xnew[0], ynew[0]))"
   ]
  }
 ],
 "metadata": {
  "kernelspec": {
   "display_name": "comp30830_t",
   "language": "python",
   "name": "python3"
  },
  "language_info": {
   "codemirror_mode": {
    "name": "ipython",
    "version": 3
   },
   "file_extension": ".py",
   "mimetype": "text/x-python",
   "name": "python",
   "nbconvert_exporter": "python",
   "pygments_lexer": "ipython3",
   "version": "3.10.9"
  },
  "orig_nbformat": 4
 },
 "nbformat": 4,
 "nbformat_minor": 2
}
