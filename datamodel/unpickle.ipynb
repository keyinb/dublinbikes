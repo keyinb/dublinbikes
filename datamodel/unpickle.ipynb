{
 "cells": [
  {
   "cell_type": "code",
   "execution_count": null,
   "metadata": {},
   "outputs": [],
   "source": [
    "\n",
    "import pickle\n",
    "import pandas as pd\n",
    "import numpy as np\n",
    "from sklearn.linear_model import LinearRegression\n",
    "# de-serialize model.pkl file into an object called model using pickle\n",
    "with open('model.pkl', 'rb') as handle:\n",
    "    model = pickle.load(handle)\n",
    "    \n",
    "@route(\"/predict\")\n",
    "def predict(X_test):\n",
    "    # now we can call various methods over model as as:\n",
    "    # Let X_test be the feature for which we want to predict the output\n",
    "    result = model.predict(X_test)\n",
    "    return jsonify(result)"
   ]
  }
 ],
 "metadata": {
  "language_info": {
   "name": "python"
  },
  "orig_nbformat": 4
 },
 "nbformat": 4,
 "nbformat_minor": 2
}
